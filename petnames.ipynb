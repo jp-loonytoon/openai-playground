{
 "cells": [
  {
   "cell_type": "markdown",
   "id": "c511fbfa-5aea-4b8d-97b5-604a178f1708",
   "metadata": {},
   "source": [
    "# OpenAI - Getting Started with Pet Names\n",
    "\n",
    "This is a really simple example to get you started. It uses the example of creating a product description.\n",
    "\n",
    "You'll need to have created an account on [OpenAI](https://platform.openai.com/) and have an API key. Create a `.env` file and add a `OPENAI_API_KEY` environment variable with your key. It'll get loaded in using `dotenv`."
   ]
  },
  {
   "cell_type": "code",
   "execution_count": 25,
   "id": "a6643d62-29c4-407f-acc8-16845a3f14ab",
   "metadata": {},
   "outputs": [],
   "source": [
    "import os\n",
    "import openai\n",
    "from dotenv import load_dotenv\n",
    "\n",
    "load_dotenv()\n",
    "\n",
    "openai.api_key = os.getenv(\"OPENAI_API_KEY\")"
   ]
  },
  {
   "cell_type": "code",
   "execution_count": 26,
   "id": "086c5996-62f6-464e-aad7-38f0592c40d9",
   "metadata": {},
   "outputs": [],
   "source": [
    "def generate_prompt(animal):\n",
    "    return \"\"\"Suggest three names for an animal that is a superhero.\n",
    "\n",
    "Animal: Cat\n",
    "Names: Captain Sharpclaw, Agent Fluffball, The Incredible Feline\n",
    "Animal: Dog\n",
    "Names: Ruff the Protector, Wonder Canine, Sir Barks-a-Lot\n",
    "Animal: {}\n",
    "Names:\"\"\".format(animal.capitalize())"
   ]
  },
  {
   "cell_type": "code",
   "execution_count": 27,
   "id": "832368f1-099c-4f91-8b4d-779d0cb4e3ca",
   "metadata": {},
   "outputs": [],
   "source": [
    "animalPrompt = generate_prompt('Hamster')"
   ]
  },
  {
   "cell_type": "code",
   "execution_count": 28,
   "id": "a72996e3-67e5-4668-ace1-ce73d5935ff8",
   "metadata": {},
   "outputs": [],
   "source": [
    "response = openai.Completion.create(\n",
    "  model=\"text-curie-001\",\n",
    "  prompt=animalPrompt,\n",
    "  temperature=0.6,\n",
    "  max_tokens=115,\n",
    "  top_p=1.0,\n",
    "  frequency_penalty=0.0,\n",
    "  presence_penalty=0.0\n",
    ")"
   ]
  },
  {
   "cell_type": "code",
   "execution_count": 29,
   "id": "f2eb4302-acc9-4d61-8b19-6e34868f8370",
   "metadata": {},
   "outputs": [
    {
     "data": {
      "text/plain": [
       "[<OpenAIObject at 0x11e12b3d0> JSON: {\n",
       "   \"finish_reason\": \"stop\",\n",
       "   \"index\": 0,\n",
       "   \"logprobs\": null,\n",
       "   \"text\": \" Speedster, The Super Hamster, The Incredible Hamster\"\n",
       " }]"
      ]
     },
     "execution_count": 29,
     "metadata": {},
     "output_type": "execute_result"
    }
   ],
   "source": [
    "(response.choices)"
   ]
  },
  {
   "cell_type": "code",
   "execution_count": null,
   "id": "2a97aeb7-ed60-4e1d-bf65-a62503ca3a1c",
   "metadata": {},
   "outputs": [],
   "source": []
  }
 ],
 "metadata": {
  "kernelspec": {
   "display_name": "Python 3 (ipykernel)",
   "language": "python",
   "name": "python3"
  },
  "language_info": {
   "codemirror_mode": {
    "name": "ipython",
    "version": 3
   },
   "file_extension": ".py",
   "mimetype": "text/x-python",
   "name": "python",
   "nbconvert_exporter": "python",
   "pygments_lexer": "ipython3",
   "version": "3.10.8"
  }
 },
 "nbformat": 4,
 "nbformat_minor": 5
}
